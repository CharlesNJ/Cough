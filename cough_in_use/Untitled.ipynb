{
 "cells": [
  {
   "cell_type": "code",
   "execution_count": null,
   "metadata": {},
   "outputs": [],
   "source": []
  },
  {
   "cell_type": "code",
   "execution_count": 8,
   "metadata": {},
   "outputs": [
    {
     "name": "stdout",
     "output_type": "stream",
     "text": [
      "Wrong arguments.\n",
      "Use: C:\\Users\\Charles\\Anaconda2\\lib\\site-packages\\ipykernel_launcher.py in.wav out.wav target_time_s\n"
     ]
    }
   ],
   "source": [
    "from __future__ import print_function, division\n",
    "import scipy.io.wavfile as wavf\n",
    "import numpy as np\n",
    "from sys import argv\n",
    "\n",
    "def pad_audio(data, fs, T):\n",
    "    # Calculate target number of samples\n",
    "    N_tar = int(fs * T)\n",
    "    # Calculate number of zero samples to append\n",
    "    shape = data.shape\n",
    "    # Create the target shape    \n",
    "    N_pad = N_tar - shape[0]\n",
    "    print(\"Padding with %s seconds of silence\" % str(N_pad/fs) )\n",
    "    shape = (N_pad,) + shape[1:]\n",
    "    # Stack only if there is something to append    \n",
    "    if shape[0] > 0:                \n",
    "        if len(shape) > 1:\n",
    "            return np.vstack((np.zeros(shape),\n",
    "                              data))\n",
    "        else:\n",
    "            return np.hstack((np.zeros(shape),\n",
    "                              data))\n",
    "    else:\n",
    "        return data\n",
    "\n",
    "if __name__ == \"__main__\":\n",
    "    if len(argv) != 4:\n",
    "        print(\"Wrong arguments.\")\n",
    "        print(\"Use: %s in.wav out.wav target_time_s\" % argv[0])\n",
    "    else:\n",
    "        in_wav = argv[1]\n",
    "        out_wav = argv[2]\n",
    "        T = float(argv[3])        \n",
    "        # Read the wav file\n",
    "        fs, in_data = wavf.read(in_wav)\n",
    "        # Prepend with zeros\n",
    "        out_data = pad_audio(in_data, fs, T)\n",
    "        # Save the output file\n",
    "        wavf.write(out_wav, fs, out_data)"
   ]
  },
  {
   "cell_type": "code",
   "execution_count": 6,
   "metadata": {},
   "outputs": [
    {
     "name": "stdout",
     "output_type": "stream",
     "text": [
      "C:\\Users\\Charles\\Desktop\\AI Cough Detection\\Cough\\cough2_drrive\n"
     ]
    }
   ],
   "source": [
    "cd C:\\Users\\Charles\\Desktop\\AI Cough Detection\\Cough\\cough2_drrive"
   ]
  },
  {
   "cell_type": "code",
   "execution_count": null,
   "metadata": {},
   "outputs": [],
   "source": []
  }
 ],
 "metadata": {
  "kernelspec": {
   "display_name": "Python 2",
   "language": "python",
   "name": "python2"
  },
  "language_info": {
   "codemirror_mode": {
    "name": "ipython",
    "version": 2
   },
   "file_extension": ".py",
   "mimetype": "text/x-python",
   "name": "python",
   "nbconvert_exporter": "python",
   "pygments_lexer": "ipython2",
   "version": "2.7.16"
  }
 },
 "nbformat": 4,
 "nbformat_minor": 2
}
