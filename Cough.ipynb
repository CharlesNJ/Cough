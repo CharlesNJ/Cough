{
 "cells": [
  {
   "cell_type": "code",
   "execution_count": null,
   "metadata": {},
   "outputs": [],
   "source": [
    "import os\n",
    "import random\n",
    "import numpy as np\n",
    "import pandas as pd\n",
    "import librosa\n",
    "import librosa.display\n",
    "import matplotlib.pyplot as plt\n",
    "import seaborn as sns\n",
    "from sklearn import model_selection\n",
    "from sklearn import preprocessing\n",
    "import IPython.display as ipd\n",
    "from pylab import figure, axes, pie, title, show\n"
   ]
  },
  {
   "cell_type": "code",
   "execution_count": null,
   "metadata": {},
   "outputs": [],
   "source": [
    "cd C:\\Users\\Charles\\Desktop\\AI Cough Detection\\cough"
   ]
  },
  {
   "cell_type": "code",
   "execution_count": null,
   "metadata": {
    "scrolled": false
   },
   "outputs": [],
   "source": [
    "# Class Distribution\n",
    "df_data = pd.read_csv('train_labels.csv')\n",
    "g = sns.countplot(df_data['label'])\n",
    "df_data['label'].value_counts()"
   ]
  },
  {
   "cell_type": "code",
   "execution_count": null,
   "metadata": {},
   "outputs": [],
   "source": [
    "# define directories\n",
    "base_dir = \"./\"\n",
    "esc_dir = os.path.join(base_dir, \"cough\")\n",
    "meta_file = os.path.join(base_dir, \"train_labels_2000.csv\")\n",
    "audio_dir = os.path.join(base_dir, \"train/\")"
   ]
  },
  {
   "cell_type": "code",
   "execution_count": null,
   "metadata": {
    "scrolled": false
   },
   "outputs": [],
   "source": [
    "#Converting the contents into a list\n",
    "list_array=os.listdir(audio_dir)\n",
    "for y in range(len(list_array)): \n",
    "    print list_array[y]"
   ]
  },
  {
   "cell_type": "code",
   "execution_count": null,
   "metadata": {},
   "outputs": [],
   "source": [
    "# load metadata\n",
    "meta_data = pd.read_csv(meta_file)\n",
    "meta_data"
   ]
  },
  {
   "cell_type": "code",
   "execution_count": null,
   "metadata": {},
   "outputs": [],
   "source": [
    "# load a wave data\n",
    "def load_wave_data(audio_dir, file_name):\n",
    "    file_path = os.path.join(audio_dir, file_name)\n",
    "    x, fs = librosa.load(file_path, sr=44100)\n",
    "    return x,fs"
   ]
  },
  {
   "cell_type": "code",
   "execution_count": null,
   "metadata": {},
   "outputs": [],
   "source": [
    "# change wave data to mel-stft\n",
    "def calculate_melsp(x, n_fft=1024, hop_length=128):\n",
    "    stft = np.abs(librosa.stft(x, n_fft=n_fft, hop_length=hop_length))**2\n",
    "    log_stft = librosa.power_to_db(stft)\n",
    "    melsp = librosa.feature.melspectrogram(S=log_stft,n_mels=128)\n",
    "    return melsp"
   ]
  },
  {
   "cell_type": "code",
   "execution_count": null,
   "metadata": {},
   "outputs": [],
   "source": [
    "# display wave in plots\n",
    "def show_wave(x):\n",
    "    plt.plot(x)\n",
    "    plt.show()"
   ]
  },
  {
   "cell_type": "code",
   "execution_count": null,
   "metadata": {},
   "outputs": [],
   "source": [
    "# display wave in heatmap\n",
    "def show_melsp(melsp, fs):\n",
    "    librosa.display.specshow(melsp, sr=fs)\n",
    "    plt.colorbar()\n",
    "    plt.show()\n",
    "    fig.savefig(str({0})+'.png')"
   ]
  },
  {
   "cell_type": "code",
   "execution_count": null,
   "metadata": {
    "scrolled": true
   },
   "outputs": [],
   "source": [
    "# example data\n",
    "x, fs = load_wave_data(audio_dir, meta_data.loc[0,\"filename\"])\n",
    "melsp = calculate_melsp(x)\n",
    "print(\"wave size:{0}\\nmelsp size:{1}\\nsamping rate:{2}\".format(x.shape, melsp.shape, fs))\n",
    "show_wave(x)\n",
    "show_melsp(melsp, fs)\n",
    "\n"
   ]
  },
  {
   "cell_type": "code",
   "execution_count": null,
   "metadata": {},
   "outputs": [],
   "source": [
    "ipd.Audio(x, rate=fs)"
   ]
  },
  {
   "cell_type": "code",
   "execution_count": null,
   "metadata": {},
   "outputs": [],
   "source": [
    "# data augmentation: add white noise\n",
    "def add_white_noise(x, rate=0.002):\n",
    "    return x + rate*np.random.randn(len(x))"
   ]
  },
  {
   "cell_type": "code",
   "execution_count": null,
   "metadata": {
    "scrolled": false
   },
   "outputs": [],
   "source": [
    "x_wn = add_white_noise(x)\n",
    "melsp = calculate_melsp(x_wn)\n",
    "print(\"wave size:{0}\\nmelsp size:{1}\\nsamping rate:{2}\".format(x_wn.shape, melsp.shape, fs))\n",
    "show_wave(x_wn)\n",
    "show_melsp(melsp, fs)"
   ]
  },
  {
   "cell_type": "code",
   "execution_count": null,
   "metadata": {},
   "outputs": [],
   "source": [
    "ipd.Audio(x_wn, rate=fs)"
   ]
  },
  {
   "cell_type": "code",
   "execution_count": null,
   "metadata": {},
   "outputs": [],
   "source": [
    "# data augmentation: shift sound in timeframe\n",
    "def shift_sound(x, rate=2):\n",
    "    return np.roll(x, int(len(x)//rate))"
   ]
  },
  {
   "cell_type": "code",
   "execution_count": null,
   "metadata": {},
   "outputs": [],
   "source": [
    "x_ss = shift_sound(x)\n",
    "melsp = calculate_melsp(x_ss)\n",
    "print(\"wave size:{0}\\nmelsp size:{1}\\nsamping rate:{2}\".format(x_ss.shape, melsp.shape, fs))\n",
    "show_wave(x_ss)\n",
    "show_melsp(melsp, fs)"
   ]
  },
  {
   "cell_type": "code",
   "execution_count": null,
   "metadata": {},
   "outputs": [],
   "source": [
    "ipd.Audio(x_ss, rate=fs)"
   ]
  },
  {
   "cell_type": "code",
   "execution_count": null,
   "metadata": {},
   "outputs": [],
   "source": [
    "# data augmentation: stretch sound\n",
    "def stretch_sound(x, rate=1.1):\n",
    "    input_length = len(x)\n",
    "    x = librosa.effects.time_stretch(x, rate)\n",
    "    if len(x)>input_length:\n",
    "        return x[:input_length]\n",
    "    else:\n",
    "        return np.pad(x, (0, max(0, input_length - len(x))), \"constant\")"
   ]
  },
  {
   "cell_type": "code",
   "execution_count": null,
   "metadata": {
    "scrolled": true
   },
   "outputs": [],
   "source": [
    "x_st = stretch_sound(x)\n",
    "melsp = calculate_melsp(x_st)\n",
    "print(\"wave size:{0}\\nmelsp size:{1}\\nsamping rate:{2}\".format(x_st.shape, melsp.shape, fs))\n",
    "show_wave(x_st)\n",
    "show_melsp(melsp, fs)\n"
   ]
  },
  {
   "cell_type": "code",
   "execution_count": null,
   "metadata": {},
   "outputs": [],
   "source": [
    "ipd.Audio(x_st, rate=fs)"
   ]
  },
  {
   "cell_type": "code",
   "execution_count": null,
   "metadata": {},
   "outputs": [],
   "source": [
    "for x in range(len(list_array)):\n",
    "    print('Current file :', list_array[x])\n",
    "    "
   ]
  },
  {
   "cell_type": "code",
   "execution_count": null,
   "metadata": {},
   "outputs": [],
   "source": [
    "from matplotlib import pyplot as plt\n",
    "\n",
    "plt.savefig('foo5.png')\n",
    "plt.savefig('foo5.png', bbox_inches='tight')"
   ]
  }
 ],
 "metadata": {
  "kernelspec": {
   "display_name": "Python 2",
   "language": "python",
   "name": "python2"
  },
  "language_info": {
   "codemirror_mode": {
    "name": "ipython",
    "version": 2
   },
   "file_extension": ".py",
   "mimetype": "text/x-python",
   "name": "python",
   "nbconvert_exporter": "python",
   "pygments_lexer": "ipython2",
   "version": "2.7.16"
  }
 },
 "nbformat": 4,
 "nbformat_minor": 2
}
